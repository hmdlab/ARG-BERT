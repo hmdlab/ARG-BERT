{
 "cells": [
  {
   "cell_type": "code",
   "execution_count": null,
   "metadata": {},
   "outputs": [],
   "source": [
    "import pandas  as pd\n",
    "import numpy as np\n",
    "from scipy import stats\n",
    "import os\n",
    "\n",
    "import matplotlib.pyplot as plt\n",
    "import seaborn as sns"
   ]
  },
  {
   "cell_type": "code",
   "execution_count": null,
   "metadata": {},
   "outputs": [],
   "source": [
    "path = 'Results/'\n",
    "if not os.path.exists(path):\n",
    "    print(\"make\" + path)\n",
    "    os.makedirs(path)\n",
    "fold_table = pd.read_csv('../Sample_data/fold_table.csv')"
   ]
  },
  {
   "cell_type": "markdown",
   "metadata": {},
   "source": [
    "## Run statical tests."
   ]
  },
  {
   "cell_type": "code",
   "execution_count": null,
   "metadata": {},
   "outputs": [],
   "source": [
    "\"\"\"\n",
    "def make_dataset(fold,fold_table):\n",
    "    header = ['ID', 'Length', 'Database', 'Accession', 'Signature description', 'Start', 'End', 'Date', 'InterPro accession', 'InterPro description', 'GO']\n",
    "    col_names = list(range(14))\n",
    "    interpro = pd.read_csv('../OUTPUT_DIR/fold_'+str(fold)+'_interpro.tsv', index_col = None, sep = '\\t', header= None, names=col_names)\n",
    "    interpro = interpro.iloc[:,[0,2,3,4,5,6,7,10,11,12,13]]\n",
    "    interpro.columns = header\n",
    "    interpro['ID'] = interpro['ID'].apply(lambda x: x.split('|')[0])\n",
    "    interpro = pd.merge(interpro, fold_table[['ID', 'mechanism']], on='ID', how='left')\n",
    "    attention = pd.read_csv('../attention/fold_'+str(fold)+'_attention.csv', index_col=0)\n",
    "    return interpro,attention\n",
    "\"\"\"\n",
    "\n",
    "def run_U_test_for_a_sequence(accession,attention_of_target_sequence,interpro_of_target_sequence):\n",
    "    attention_of_target_region = []\n",
    "    interpro_of_target_region = interpro_of_target_sequence[interpro_of_target_sequence['Accession'] == accession]\n",
    "    for i in interpro_of_target_region.index:\n",
    "        start = interpro_of_target_region.loc[i,'Start']\n",
    "        end = interpro_of_target_region.loc[i,'End']\n",
    "    attention_of_target_region += attention_of_target_sequence[start-1:end]\n",
    "    stats_U, p = stats.mannwhitneyu(attention_of_target_region, attention_of_target_sequence, True, 'greater')\n",
    "    return p\n",
    "\n",
    "def run_U_test_for_a_dataset(interpro,attention):\n",
    "    result = pd.DataFrame()\n",
    "    for ID in interpro['ID'].unique():\n",
    "        #try:\n",
    "        interpro_of_target_sequence = interpro[interpro['ID'] == ID]\n",
    "        accessions_of_target_region = interpro_of_target_sequence['Accession'].tolist()\n",
    "\n",
    "        attention_of_target_sequence = attention[ID].dropna().tolist()[:-1]\n",
    "\n",
    "        p_value = pd.DataFrame({accession: run_U_test_for_a_sequence(accessions_of_target_region, attention_of_target_sequence,interpro_of_target_sequence) for accession in accessions_of_target_region}, index =['U p-value']).T.reset_index().rename(columns = {'index':'Accession'})\n",
    "        p_value['Significance'] = (p_value['U p-value']<(0.05/len(interpro_of_target_sequence))).tolist()\n",
    "        interpro_of_target_sequence = pd.merge(interpro_of_target_sequence, p_value, on='Accession', how='left')\n",
    "        result = pd.concat([result, interpro_of_target_sequence], axis=0)\n",
    "        #except:\n",
    "        #    print(ID)\n",
    "    return result"
   ]
  },
  {
   "cell_type": "code",
   "execution_count": null,
   "metadata": {},
   "outputs": [],
   "source": [
    "result_all =  pd.DataFrame()\n",
    "\n",
    "for fold in range(5):\n",
    "    interpro_per_fold = pd.read_csv(path + 'Interpro/fold_'+str(fold)+'.interpro.csv', index_col = 0)\n",
    "    attention = pd.read_csv(path + 'attention/fold_'+str(fold)+'.attention.csv', index_col =0)\n",
    "    result_per_fold = run_U_test_for_a_dataset(interpro_per_fold,attention)\n",
    "    result_all = pd.concat([result_all, result_per_fold])\n",
    "result_all.to_csv(path + 'result_attention-intensive_regions.csv')"
   ]
  },
  {
   "cell_type": "markdown",
   "metadata": {},
   "source": [
    "# Visualization"
   ]
  },
  {
   "cell_type": "markdown",
   "metadata": {},
   "source": [
    "### Decide the target sequence."
   ]
  },
  {
   "cell_type": "code",
   "execution_count": null,
   "metadata": {},
   "outputs": [],
   "source": [
    "## Decide from its AMR Family\n",
    "\n",
    "familyname_to_id = {\n",
    "    'blaOXA-114s': 'U3N8W9',\n",
    "    'rpoB': 'NP_273190.1',\n",
    "    'macB': 'A0A011P660',\n",
    "    'tetW': 'ABN80187',\n",
    "}\n",
    "\n",
    "familyname  = 'tetW'\n",
    "target_id = familyname_to_id[familyname]\n",
    "os.mkdir(path + familyname)"
   ]
  },
  {
   "cell_type": "code",
   "execution_count": null,
   "metadata": {},
   "outputs": [],
   "source": [
    "## Decide from its resistance mechanism\n",
    "\n",
    "mechanism_to_id = {\n",
    "    'antibiotic inactivation': 'U3N8W9',\n",
    " 'antibiotic target alteration': 'NP_273190.1',\n",
    " 'antibiotic efflux': 'A0A011P660',\n",
    " 'antibiotic target protection': 'ABN80187',\n",
    "}\n",
    "\n",
    "mechanism = 'antibiotic target protection'\n",
    "target_id = mechanism_to_id[mechanism]\n"
   ]
  },
  {
   "cell_type": "code",
   "execution_count": null,
   "metadata": {},
   "outputs": [],
   "source": [
    "fold = fold_table[fold_table['ID']==target_id]['fold'].tolist()[0]\n",
    "print(fold, mechanism)\n",
    "\n",
    "interpro_1domain = pd.read_csv(path + 'result_attention-intensive_regions.csv', index_col=0)\n",
    "interpro_1domain = interpro_1domain[interpro_1domain['ID'] == target_id]\n",
    "interpro_1domain[interpro_1domain['Significance']].to_csv(path + familyname + '/' + familyname +'.csv')"
   ]
  },
  {
   "cell_type": "markdown",
   "metadata": {},
   "source": [
    "### Corresponding Attention-intensive areas and their positions."
   ]
  },
  {
   "cell_type": "code",
   "execution_count": null,
   "metadata": {},
   "outputs": [],
   "source": [
    "length = interpro_1domain['Length'].unique()[0]\n",
    "accession_list = interpro_1domain['Accession'].unique()\n",
    "position = pd.DataFrame(columns = accession_list, index = list(range(1,length+1)))\n",
    "\n",
    "for accession in accession_list:\n",
    "    # print(accession)\n",
    "    interpro_accession = interpro_1domain[interpro_1domain['Accession'] == accession]\n",
    "    for l in range(len(interpro_accession)):\n",
    "        start = interpro_accession.iloc[l,5]\n",
    "        end = interpro_accession.iloc[l,6]\n",
    "        # print(start,end)\n",
    "        if interpro_accession.iloc[0,-1]:\n",
    "            position.loc[start:end,accession] = -1\n",
    "        else:\n",
    "            position.loc[start:end,accession] = 1\n",
    "\n",
    "position.to_csv(path + familyname + '/position.csv')\n",
    "position = pd.read_csv(path + familyname + '/position.csv',index_col=0).T"
   ]
  },
  {
   "cell_type": "markdown",
   "metadata": {},
   "source": [
    "### Visualization"
   ]
  },
  {
   "cell_type": "code",
   "execution_count": null,
   "metadata": {},
   "outputs": [],
   "source": [
    "attention = pd.read_csv('attention/fold_'+str(fold)+'.attention.csv', index_col = 0)\n",
    "attention_of_target_sequence = attention[target_id].dropna().iloc[1:-1]\n",
    "\n",
    "## Focus only on the Attention-intensive regions.\n",
    "position = position[position.sum(axis = 1)<0]"
   ]
  },
  {
   "cell_type": "code",
   "execution_count": null,
   "metadata": {},
   "outputs": [],
   "source": [
    "sns.set()\n",
    "fig, ax = plt.subplots(2, 1, figsize=(15, 10), sharex = True)\n",
    "\n",
    "sns.heatmap(position,cmap='bwr',ax = ax[0], cbar= False, yticklabels=False, xticklabels=True)\n",
    "ax[0].set_title('Attention-intensive regions', fontsize = 30)\n",
    "ax[0].tick_params(labelsize=30)\n",
    "ax[0].set_yticks([y + 0.5 for y in list(range(len(position.index)))])\n",
    "ax[0].set_yticklabels(position.index.tolist())\n",
    "\n",
    "\n",
    "attention_of_target_sequence.rolling(5, center=True).apply(lambda x: x.mean()).plot(fontsize = 10, legend=False)\n",
    "ax[1].set_title('Attention', fontsize = 30)\n",
    "ax[1].tick_params(labelsize=30)\n",
    "ax[1].set_xticks(range(0,len(position.T),100))\n",
    "ax[1].set_xticklabels(list(range(0,len(position.T),100)),rotation = 45)\n",
    "fig.savefig(path + familyname + '/' + familyname +'.png')"
   ]
  },
  {
   "cell_type": "code",
   "execution_count": null,
   "metadata": {},
   "outputs": [],
   "source": []
  }
 ],
 "metadata": {
  "interpreter": {
   "hash": "4e4e8b0f9678671e7c1801361c888ac62514a7043b530e64d08c86727710599e"
  },
  "kernelspec": {
   "display_name": "Python 3 (ipykernel)",
   "language": "python",
   "name": "python3"
  },
  "language_info": {
   "codemirror_mode": {
    "name": "ipython",
    "version": 3
   },
   "file_extension": ".py",
   "mimetype": "text/x-python",
   "name": "python",
   "nbconvert_exporter": "python",
   "pygments_lexer": "ipython3",
   "version": "3.8.10"
  }
 },
 "nbformat": 4,
 "nbformat_minor": 4
}

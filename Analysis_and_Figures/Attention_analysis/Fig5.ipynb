{
 "cells": [
  {
   "cell_type": "markdown",
   "metadata": {},
   "source": [
    "# GO enrichment analysis"
   ]
  },
  {
   "cell_type": "code",
   "execution_count": null,
   "metadata": {},
   "outputs": [],
   "source": [
    "import os\n",
    "import pandas as pd\n",
    "import numpy as np\n",
    "import matplotlib.pyplot as plt\n",
    "import requests\n",
    "from scipy.stats import fisher_exact"
   ]
  },
  {
   "cell_type": "code",
   "execution_count": null,
   "metadata": {},
   "outputs": [],
   "source": [
    "mechanism_list = [\n",
    "'antibiotic inactivation',       \n",
    "'antibiotic target alteration',\n",
    "'antibiotic efflux', \n",
    "'antibiotic target replacement',\n",
    "'antibiotic target protection'\n",
    "]\n",
    "\n",
    "path = 'Results/'\n",
    "if not os.path.exists(path):\n",
    "    print(\"make\" + path)\n",
    "    os.makedirs(path)"
   ]
  },
  {
   "cell_type": "markdown",
   "metadata": {},
   "source": [
    "## Run static tests."
   ]
  },
  {
   "cell_type": "code",
   "execution_count": null,
   "metadata": {},
   "outputs": [],
   "source": [
    "def get_lists_of_GO(interpro_with_GO, mechanism):\n",
    "    interpro_with_GO_per_mechanism = interpro_with_GO[interpro_with_GO['mechanism'] == mechanism].fillna('-')\n",
    "    GO_list = []\n",
    "    for GO in interpro_with_GO_per_mechanism['GO']:\n",
    "        try:\n",
    "            if GO != '-':\n",
    "                GO_list += GO.split('|')\n",
    "        except AttributeError :\n",
    "            pass\n",
    "    return_tuple = (GO_list,interpro_with_GO_per_mechanism)\n",
    "    return return_tuple"
   ]
  },
  {
   "cell_type": "code",
   "execution_count": null,
   "metadata": {},
   "outputs": [],
   "source": [
    "interpro = pd.read_csv(path + 'result_attention-intensive_regions.csv')\n",
    "interpro_unique = interpro.drop('Start', axis=1).drop('End', axis=1).groupby(['ID','Accession'], as_index=False).first()\n",
    "interpro_with_GO_all = interpro_unique[(interpro_unique['GO'] != '-') & (interpro['GO'].notna())]\n",
    "interpro_with_GO_significant = interpro_with_GO_all[interpro_with_GO_all['Significance']]"
   ]
  },
  {
   "cell_type": "code",
   "execution_count": null,
   "metadata": {},
   "outputs": [],
   "source": [
    "result_all = pd.DataFrame()\n",
    "num_of_test = 0\n",
    "for mechanism in mechanism_list:\n",
    "    significant_GO_list,significant_interpro_per_mechanism = get_lists_of_GO(interpro_with_GO_significant, mechanism)\n",
    "    all_GO_list,all_interpro_per_mechanism = get_lists_of_GO(interpro_with_GO_all,mechanism)\n",
    "\n",
    "    GO_list = list(set(all_GO_list))\n",
    "    result_dict = {}\n",
    "    num_significant_regions = len(significant_interpro_per_mechanism)\n",
    "    num_all_regions = len(interpro_per_mechanism)\n",
    "    for GO in GO_list:\n",
    "        \n",
    "        num_withGO_significant = significant_interpro_per_mechanism['GO'].str.contains(GO).sum()\n",
    "        num_withGO_ns = all_interpro_per_mechanism['GO'].str.contains(GO).sum() - num_withGO_significant\n",
    "        num_withoutGO_significant = num_significant_regions - num_withGO_significant\n",
    "        num_withoutGO_ns = num_all_regions - num_withGO_significant - num_withGO_ns - num_withoutGO_significant\n",
    "\n",
    "        data = np.array([[num_withGO_significant, num_withGO_ns],[num_withoutGO_significant, num_withoutGO_ns]])\n",
    "        result_dict[GO] = [fisher_exact(data,alternative='greater')[1]] + data.flatten().tolist()\n",
    "\n",
    "    result_df = pd.DataFrame(result_dict, index=['p-value', 'w/ GO and significant','w/ GO and NOT significant','w/o GO and significant','w/o GO and NOT significant']).T\n",
    "    result_df['mechanism']=mechanism\n",
    "    result_all = pd.concat([result_all,result_df])\n",
    "    num_of_test += len(GO_list)\n",
    "    "
   ]
  },
  {
   "cell_type": "markdown",
   "metadata": {},
   "source": [
    "## Get GO terms from QuickGO"
   ]
  },
  {
   "cell_type": "code",
   "execution_count": null,
   "metadata": {},
   "outputs": [],
   "source": [
    "def get_go_term(go_id):\n",
    "    api_url = f\"https://www.ebi.ac.uk/QuickGO/services/ontology/go/terms/{go_id}\"\n",
    "    response = requests.get(api_url)\n",
    "    if response.status_code == 200:\n",
    "        data = response.json()\n",
    "        go_term = data['results'][0]['name']\n",
    "        return go_term\n",
    "    else:\n",
    "        return None\n",
    "\n",
    "GO_list = list(map(get_go_term,result_all.index))\n",
    "result_all['GO term'] = GO_list"
   ]
  },
  {
   "cell_type": "code",
   "execution_count": null,
   "metadata": {},
   "outputs": [],
   "source": [
    "result_true = result_all[result_all['p-value']<0.05/num_of_test]\n",
    "result_false = result_all[result_all['p-value']>=0.05/num_of_test]\n",
    "result_all = pd.concat([result_true,result_false])\n",
    "result_all.to_csv(path + 'result_GO_analysis.csv')"
   ]
  },
  {
   "cell_type": "markdown",
   "metadata": {},
   "source": [
    "## Visualization：Fig5"
   ]
  },
  {
   "cell_type": "code",
   "execution_count": null,
   "metadata": {},
   "outputs": [],
   "source": [
    "result_viz = result_true[result_true['w/ GO and significant']>150]\n",
    "result_viz['-log10(p-value)'] = -result_viz['p-value'].apply(np.log10)\n",
    "result_viz = result_viz.rename(columns  ={'mechanism':'Resistance mechanism'}).loc[:,['GO term','Resistance mechanism','-log(p-value)']]"
   ]
  },
  {
   "cell_type": "code",
   "execution_count": null,
   "metadata": {},
   "outputs": [],
   "source": [
    "sns.set(style=\"whitegrid\") \n",
    "plt.figure(figsize=(15, 15))\n",
    "mechanism_list_new = mechanism_list[:3] + [mechanism_list[4]]\n",
    "sns.barplot(GO_viz['-log(p-value)'],GO_viz['GO term'], hue = GO_viz['Resistance mechanism'], hue_order= mechanism_list_new, palette = 'Set2', dodge = False)\n",
    "plt.legend(title=\"Resistance mechanism\", title_fontsize=\"xx-large\",fontsize=\"xx-large\")\n",
    "plt.yticks(fontsize=\"xx-large\")\n",
    "plt.xticks(fontsize=\"xx-large\")\n",
    "plt.xlabel('-log10(p-value)',fontsize=\"xx-large\")\n",
    "plt.ylabel('')"
   ]
  }
 ],
 "metadata": {
  "interpreter": {
   "hash": "4e4e8b0f9678671e7c1801361c888ac62514a7043b530e64d08c86727710599e"
  },
  "kernelspec": {
   "display_name": "Python 3 (ipykernel)",
   "language": "python",
   "name": "python3"
  },
  "language_info": {
   "codemirror_mode": {
    "name": "ipython",
    "version": 3
   },
   "file_extension": ".py",
   "mimetype": "text/x-python",
   "name": "python",
   "nbconvert_exporter": "python",
   "pygments_lexer": "ipython3",
   "version": "3.8.10"
  }
 },
 "nbformat": 4,
 "nbformat_minor": 4
}

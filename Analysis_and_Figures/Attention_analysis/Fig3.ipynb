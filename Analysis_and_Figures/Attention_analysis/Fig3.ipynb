{
 "cells": [
  {
   "cell_type": "markdown",
   "metadata": {},
   "source": [
    "# Calculate amino acid conservation score."
   ]
  },
  {
   "cell_type": "code",
   "execution_count": null,
   "metadata": {},
   "outputs": [],
   "source": [
    "from Bio import AlignIO\n",
    "from Bio import SeqIO\n",
    "from Bio.Align.AlignInfo import PSSM\n",
    "from Bio.Align.AlignInfo import SummaryInfo\n",
    "import pandas as pd\n",
    "import matplotlib.pyplot as plt\n",
    "import seaborn as sns"
   ]
  },
  {
   "cell_type": "code",
   "execution_count": null,
   "metadata": {},
   "outputs": [],
   "source": [
    "target_dict = {\n",
    "    'blaOXA-114s': 'U3N8W9',#antibiotic inactivation ABW87257\n",
    " 'rpoB': 'NP_273190.1',# antibiotic target alteration AF:B4RQW2\n",
    " 'macB': 'A0A011P660', # antibiotic efflux\n",
    " 'tetW': 'ABN80187'# antibiotic target protection\n",
    "}\n",
    "gene_name = 'tetW'\n",
    "gene_id = target_dict[gene_name]\n",
    "\n",
    "if not os.path.exists(gene_name):\n",
    "    os.makedirs(path + gene_name)"
   ]
  },
  {
   "cell_type": "code",
   "execution_count": null,
   "metadata": {},
   "outputs": [],
   "source": [
    "fasta_file = gene_name + \"/clustalw.fasta\"\n",
    "\n",
    "align = AlignIO.read(fasta_file, \"fasta\")\n",
    "summary_align = SummaryInfo(align)\n",
    "\n",
    "for record in align:\n",
    "    if record.id == gene_name:\n",
    "        sequence = record.seq\n",
    "        break\n",
    "\n",
    "freq = {}\n",
    "for aa in set(list(sequence)):\n",
    "    if aa != '-':\n",
    "        freq[aa] = 1/20\n",
    "\n",
    "    "
   ]
  },
  {
   "cell_type": "code",
   "execution_count": null,
   "metadata": {},
   "outputs": [],
   "source": [
    "pssm = summary_align.pos_specific_score_matrix(axis_seq = sequence, chars_to_ignore = ['-'])\n",
    "df_pssm = pd.DataFrame(index=pssm[0].keys(),columns=list(range(len(summary_align.dumb_consensus()))))\n",
    "n = 0\n",
    "for p in pssm:\n",
    "    df_pssm[n] = p.values()\n",
    "    n += 1\n",
    "\n",
    "from scipy.stats import entropy\n",
    "qk = [1/20] * 20\n",
    "info = []\n",
    "for n in df_pssm.columns:\n",
    "    info.append(entropy(df_pssm[n], qk=qk, base = 2))\n",
    "\n",
    "amino_index = []\n",
    "for i,a in enumerate(list(sequence)):\n",
    "    if a != '-':\n",
    "        amino_index.append(i)\n",
    "info_content = []\n",
    "for a_i in amino_index:\n",
    "    info_content.append(info[a_i])"
   ]
  },
  {
   "cell_type": "code",
   "execution_count": null,
   "metadata": {},
   "outputs": [],
   "source": [
    "path = '/'\n",
    "fold_table = pd.read_csv('../Sample_data/fold_table.csv', index_col=0)\n",
    "fold = fold_table[fold_table['ID']==gene_id]['fold'].tolist()[0]\n",
    "attention = pd.read_csv('attention/fold_'+str(fold)+'_attention.csv', index_col = 0)[gene_id].dropna().iloc[1:-1]"
   ]
  },
  {
   "cell_type": "code",
   "execution_count": null,
   "metadata": {},
   "outputs": [],
   "source": [
    "conserv_score = pd.DataFrame({'Attention': attention,'Conservation score':info_content})\n",
    "threshold = conserv_score['Attention'].quantile(q=[0.33,0.66]).tolist()\n",
    "threshold"
   ]
  },
  {
   "cell_type": "code",
   "execution_count": null,
   "metadata": {},
   "outputs": [],
   "source": [
    "def annotation(c):\n",
    "    if c <= threshold[0]:\n",
    "        return 'Low'\n",
    "    elif threshold[0] <= c < threshold[1]:\n",
    "        return 'Medium'\n",
    "    elif threshold[1] <= c:\n",
    "        return 'High'\n",
    "conserv_score['Groups'] = list(map(annotation,conserv_score['Attention']))"
   ]
  },
  {
   "cell_type": "code",
   "execution_count": null,
   "metadata": {},
   "outputs": [],
   "source": [
    "conserv_score['Groups'].unique()"
   ]
  },
  {
   "cell_type": "code",
   "execution_count": null,
   "metadata": {},
   "outputs": [],
   "source": [
    "plt.figure(figsize=(10, 7.5))\n",
    "\n",
    "\n",
    "categories = ['Low', 'Medium', 'High',]\n",
    "palette = sns.color_palette('Set2', n_colors=len(categories))\n",
    "line_label = ['33 percentile', '66 percentile']\n",
    "line_style = ['dashed','dashdot']\n",
    "\n",
    "sns.scatterplot(x='Attention', y='Conservation score', hue='Groups', data=conserv_score, palette = palette)\n",
    "for i,t in enumerate(threshold):\n",
    "    plt.axvline(x = t, color='red', label = line_label[i], linestyle = line_style[i])\n",
    "plt.xlabel('Attention', fontsize = 30)\n",
    "plt.ylabel('Conservation score', fontsize = 30)\n",
    "plt.xticks(fontsize=18)\n",
    "plt.yticks(fontsize=18)\n",
    "plt.legend(fontsize = 20, markerscale = 3)"
   ]
  },
  {
   "cell_type": "code",
   "execution_count": null,
   "metadata": {},
   "outputs": [],
   "source": [
    "import seaborn as sns\n",
    "import matplotlib.pyplot as plt\n",
    "import pandas as pd\n",
    "import seaborn as sns\n",
    "\n",
    "# A few helper functions:\n",
    "from statannotations.Annotator import Annotator\n",
    "from statannotations.stats.utils import check_alpha\n",
    "\n",
    "\n",
    "import numpy as np\n",
    "from scipy.stats import mannwhitneyu\n",
    "\n",
    "new_order = ['Low','High','Medium']\n",
    "new_palette = [palette[categories.index(category)] for category in new_order]\n",
    "\n",
    "# Putting the parameters in a dictionary avoids code duplication\n",
    "# since we use the same for `sns.boxplot` and `Annotator` calls\n",
    "plotting_parameters = {\n",
    "    'data':   conserv_score,\n",
    "    'x':       'Groups',\n",
    "    'y':       'Conservation score',\n",
    "    'order':   categories,\n",
    "    #'color': color\n",
    "    'palette': new_palette,\n",
    "}\n",
    "\n",
    "pairs = [('Low', 'Medium'),\n",
    "         ('Medium', 'High'),\n",
    "         ('Low', 'High')]\n",
    "\n",
    "\n",
    "plt.rcParams[\"font.size\"] = 20\n",
    "fig = plt.figure(figsize=(10, 7.5))\n",
    "ax = fig.add_subplot(1, 1, 1)\n",
    "\n",
    "with sns.plotting_context('notebook', font_scale=1.4):\n",
    "\n",
    "    # Plot with seaborn\n",
    "    sns.violinplot(ax = ax, **plotting_parameters)\n",
    "\n",
    "    # Add annotations\n",
    "    annotator = Annotator(ax, pairs, **plotting_parameters)\n",
    "    annotator.configure(test='Mann-Whitney', comparisons_correction=\"bonferroni\")\n",
    "    _, corrected_results = annotator.apply_and_annotate()\n",
    "    \n",
    "ax.set_xlabel(\"\")"
   ]
  }
 ],
 "metadata": {
  "interpreter": {
   "hash": "4e4e8b0f9678671e7c1801361c888ac62514a7043b530e64d08c86727710599e"
  },
  "kernelspec": {
   "display_name": "Python 3 (ipykernel)",
   "language": "python",
   "name": "python3"
  },
  "language_info": {
   "codemirror_mode": {
    "name": "ipython",
    "version": 3
   },
   "file_extension": ".py",
   "mimetype": "text/x-python",
   "name": "python",
   "nbconvert_exporter": "python",
   "pygments_lexer": "ipython3",
   "version": "3.8.10"
  }
 },
 "nbformat": 4,
 "nbformat_minor": 4
}

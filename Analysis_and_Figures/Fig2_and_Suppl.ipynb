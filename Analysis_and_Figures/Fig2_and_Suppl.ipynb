{
 "cells": [
  {
   "cell_type": "code",
   "execution_count": null,
   "metadata": {},
   "outputs": [],
   "source": [
    "import pandas as pd\n",
    "import seaborn as sns\n",
    "import matplotlib.pyplot as plt\n",
    "\n",
    "mechanism_list = ['antibiotic inactivation',\n",
    " 'antibiotic target alteration',\n",
    " 'antibiotic efflux',\n",
    " 'antibiotic target replacement',\n",
    " 'antibiotic target protection',\n",
    " 'others']"
   ]
  },
  {
   "cell_type": "markdown",
   "metadata": {},
   "source": [
    "# Fig.2"
   ]
  },
  {
   "cell_type": "code",
   "execution_count": null,
   "metadata": {},
   "outputs": [],
   "source": [
    "result_acc = pd.DataFrame()\n",
    "result_pre = pd.DataFrame()\n",
    "result_rec = pd.DataFrame()\n",
    "result_f1 = pd.DataFrame()\n",
    "\n",
    "for method in ['Proposed', 'LM-ARG', 'BLAST']:\n",
    "    result_method = pd.read_csv('Prediction results/Raw_data/LHD_all_'+method+'.csv', index_col=0)\n",
    "    result_acc[method] = result_method['Accuracy']\n",
    "    result_pre[method] = result_method['Precision']\n",
    "    result_rec[method] = result_method['Recall']\n",
    "    result_f1[method] = result_method['F1 Score']"
   ]
  },
  {
   "cell_type": "code",
   "execution_count": null,
   "metadata": {},
   "outputs": [],
   "source": [
    "result_acc['threshold'] = result_method['threshold']\n",
    "result_acc['fold'] = result_method['fold']\n",
    "result_pre['threshold'] = result_method['threshold']\n",
    "result_pre['fold'] = result_method['fold']\n",
    "result_rec['threshold'] = result_method['threshold']\n",
    "result_rec['fold'] = result_method['fold']\n",
    "result_f1['threshold'] = result_method['threshold']\n",
    "result_f1['fold'] = result_method['fold']"
   ]
  },
  {
   "cell_type": "code",
   "execution_count": null,
   "metadata": {},
   "outputs": [],
   "source": [
    "result_for_heatmap_acc = result_acc[result_acc['fold'] == 'Average'].set_index('threshold').loc[:,['Proposed', 'LM-ARG', 'BLAST']]\n",
    "result_for_heatmap_pre = result_pre[result_pre['fold'] == 'Average'].set_index('threshold').loc[:,['Proposed', 'LM-ARG', 'BLAST']]\n",
    "result_for_heatmap_rec = result_rec[result_rec['fold'] == 'Average'].set_index('threshold').loc[:,['Proposed', 'LM-ARG', 'BLAST']]\n",
    "result_for_heatmap_f1 = result_f1[result_f1['fold'] == 'Average'].set_index('threshold').loc[:,['Proposed', 'LM-ARG', 'BLAST']]"
   ]
  },
  {
   "cell_type": "code",
   "execution_count": null,
   "metadata": {},
   "outputs": [],
   "source": [
    "category_order = ['F1 Score', 'Recall', 'Precision', 'Accuracy'][::-1]\n",
    "ylabel_heatmap =  ['threshold','','','']\n",
    "\n",
    "fig_heat,ax_heat = plt.subplots(1, len(category_order), figsize=(18, 10), sharey=True)\n",
    "plt.rcParams[\"font.size\"] = 15\n",
    "cmap = plt.get_cmap(\"Set2\")\n",
    "sns.set(style=\"whitegrid\")  \n",
    "sns.heatmap(result_for_heatmap_acc, vmax=1, vmin=0.70, annot=True, fmt='.3f', ax = ax_heat[0],annot_kws={\"size\": 20},cbar=False, cmap='pink_r')\n",
    "sns.heatmap(result_for_heatmap_pre, vmax=1, vmin=0.70, annot=True, fmt='.3f', ax = ax_heat[1],annot_kws={\"size\": 20},cbar=False, cmap='pink_r')\n",
    "sns.heatmap(result_for_heatmap_rec, vmax=1, vmin=0.70, annot=True, fmt='.3f', ax = ax_heat[2],annot_kws={\"size\": 20},cbar=False, cmap='pink_r')\n",
    "sns.heatmap(result_for_heatmap_f1, vmax=1, vmin=0.70, annot=True, fmt='.3f', ax = ax_heat[3],annot_kws={\"size\": 20}, cbar_kws={ \"location\":\"right\"}, cmap='pink_r')\n",
    "\n",
    "for i in range(len(category_order)):\n",
    "    indicate = category_order[i]\n",
    "    \n",
    "    ax_heat[i].set_xlabel(indicate, fontsize=20)\n",
    "    ax_heat[i].set_ylabel(ylabel_heatmap[i], fontsize = 20)\n",
    "    ax_heat[i].tick_params(axis='x', labelrotation=45, labelsize=20)\n",
    "    ax_heat[i].tick_params(axis='y', labelsize=20)\n",
    "     \n",
    "fig_heat.tight_layout()"
   ]
  },
  {
   "cell_type": "markdown",
   "metadata": {},
   "source": [
    "# Fig.S1"
   ]
  },
  {
   "cell_type": "code",
   "execution_count": null,
   "metadata": {},
   "outputs": [],
   "source": [
    "fold_table = pd.read_csv('../Sample_data/fold_table.csv',index_col=0)\n",
    "mechanism_count = pd.DataFrame(fold_table['mechanism'].value_counts()).rename(columns = {'mechanism':'Resistance mechanism'})\n",
    "\n",
    "hmdargdb = pd.read_csv('../Sample_data/input.csv',index_col=0) ## Change the path to your data.\n",
    "length_list = []\n",
    "for m in mechanism_list:\n",
    "    length_list.append([hmdargdb['mechanism']==m]['Length'].tolist())"
   ]
  },
  {
   "cell_type": "code",
   "execution_count": null,
   "metadata": {},
   "outputs": [],
   "source": [
    "fig, ax = plt.subplots(2, 1, figsize=(15, 15))\n",
    "\n",
    "sns.barplot(mechanism_count['Resistance mechanism'],mechanism_count.index, palette = 'Set2', ax = ax[0])\n",
    "for i in range(len(mechanism_count.index)):\n",
    "    ax[0].text(mechanism_count.iloc[i,0], i, mechanism_count.iloc[i,0],fontsize = 20)\n",
    "\n",
    "\n",
    "colors = [cmap(i) for i in range(len(set(mechanism_list)))]\n",
    "ax[1].hist(length_list, histtype='barstacked',  label=mechanism_list, color = colors)\n",
    "ax[1].legend(title=\"Resistance mechanism\")\n",
    "plt.xlabel('Sequence length')\n",
    "plt.ylabel('# of sequences')"
   ]
  },
  {
   "cell_type": "markdown",
   "metadata": {},
   "source": [
    "# Fig S2-4"
   ]
  },
  {
   "cell_type": "code",
   "execution_count": null,
   "metadata": {},
   "outputs": [],
   "source": [
    "category = 'mechanism' # mechanism or threshold\n",
    "dataset = 'hmdargdb' # LHD_0.4 or hmdargdb"
   ]
  },
  {
   "cell_type": "code",
   "execution_count": null,
   "metadata": {},
   "outputs": [],
   "source": [
    "fold_table = pd.read_csv('../Sample_data/fold_table.csv', index_col = 0)\n",
    "\n",
    "mechanism_count = fold_table['mechanism'].value_counts()\n",
    "\n",
    "c_list = [0.4,0.6,0.7,0.8,0.9]\n",
    "\n",
    "mechanism_count_dict = {}\n",
    "for m in mechanism_list[:-1]:\n",
    "    mechanism_count_dict[m] = m+'\\n('+str(mechanism_count.loc[m])+')'"
   ]
  },
  {
   "cell_type": "code",
   "execution_count": null,
   "metadata": {},
   "outputs": [],
   "source": [
    "def make_dataset_for_heatmap(method,dataset,category):\n",
    "    result_per_mechanism = pd.read_csv('Prediction results/'+category + '/'+dataset+'_' + method +'.csv',index_col=0)\n",
    "    if category == 'mechanism':\n",
    "        result_for_heatmap = result_per_mechanism[result_per_mechanism['fold'] == 'Average'].iloc[:-1,1:].set_index(category).reindex(index=mechanism_list)[:-1].rename(index = mechanism_count_dict)\n",
    "    else:\n",
    "        result_for_heatmap = result_per_mechanism[result_per_mechanism['fold'] == 'Average'].iloc[:,1:].set_index(category)\n",
    "    return result_for_heatmap"
   ]
  },
  {
   "cell_type": "code",
   "execution_count": null,
   "metadata": {},
   "outputs": [],
   "source": [
    "result = pd.read_csv('Prediction results/Raw_data/'+dataset+'_' + method +'.csv', index_col = 0).reset_index(drop = 'True')\n",
    "df = pd.DataFrame()\n",
    "\n",
    "category_order = ['F1 Score', 'Recall', 'Precision', 'Accuracy'][::-1]\n",
    "\n",
    "if category == 'mechanism':\n",
    "    ylabel_heatmap = ['Resistance mechanism(# of sequence)','','','','']\n",
    "else:\n",
    "    ylabel_heatmap = [category,'','','']\n",
    "\n",
    "if dataset == 'hmdargdb':\n",
    "    method_list = ['Proposed', 'LM-ARG', 'HMD-ARG', 'BLAST', 'CARD-RGI']\n",
    "else:\n",
    "    method_list = ['Proposed', 'LM-ARG', 'BLAST']\n",
    "\n",
    "fig, axis = plt.subplots(1, len(method_list), figsize=(15, 10), sharey=True)\n",
    "fig_heat,ax_heat = plt.subplots(1, len(method_list), figsize=(18, 10), sharey=True)\n",
    "plt.rcParams[\"font.size\"] = 15\n",
    "cmap = plt.get_cmap(\"Set2\")\n",
    "sns.set(style=\"whitegrid\")  \n",
    "\n",
    "for i in range(len(method_list)):\n",
    "    methods = method_list[i]\n",
    "    \n",
    "    sns.stripplot(x=\"metrics\", y=\"Value\", data=result[result['method'] == methods], jitter=True, alpha=0.7, ax=axis[i], order=category_order, size=10,color='black')\n",
    "    \n",
    "    category_means_proposed = result[result['method'] == methods].groupby('metrics')[['Value']].mean().reindex(category_order)\n",
    "    category_means_proposed.plot(kind='bar', alpha=1, ax=axis[i], color=cmap(i))#color_list[i])\n",
    "    df[methods] = category_means_proposed['Value']\n",
    "    \n",
    "    axis[i].set_xlabel(methods, fontsize=20)\n",
    "    axis[i].set_ylabel('',fontsize=20)\n",
    "    axis[i].set_ylim(0.6, 1)\n",
    "    axis[i].tick_params(axis='x', labelrotation=45, labelsize=20)\n",
    "    axis[i].tick_params(axis='y', labelsize=20)\n",
    "    axis[i].legend('')\n",
    "    \n",
    "    sns.heatmap(make_dataset_for_heatmap(methods,dataset,category), vmax=1, vmin=0.70, annot=True, fmt='.3f', ax = ax_heat[i],annot_kws={\"size\": 13}, cbar_kws={ \"location\":\"top\"}, cmap='pink_r')\n",
    "    ax_heat[i].set_xlabel(methods, fontsize=20)\n",
    "    ax_heat[i].set_ylabel(ylabel_heatmap[i], fontsize = 20)\n",
    "    ax_heat[i].tick_params(axis='x', labelrotation=45, labelsize=20)\n",
    "    ax_heat[i].tick_params(axis='y', labelsize=13)\n",
    "    \n",
    "df\n",
    "fig.tight_layout()   \n",
    "fig_heat.tight_layout()\n",
    "plt.show()\n"
   ]
  }
 ],
 "metadata": {
  "interpreter": {
   "hash": "aee8b7b246df8f9039afb4144a1f6fd8d2ca17a180786b69acc140d282b71a49"
  },
  "kernelspec": {
   "display_name": "Python 3 (ipykernel)",
   "language": "python",
   "name": "python3"
  },
  "language_info": {
   "codemirror_mode": {
    "name": "ipython",
    "version": 3
   },
   "file_extension": ".py",
   "mimetype": "text/x-python",
   "name": "python",
   "nbconvert_exporter": "python",
   "pygments_lexer": "ipython3",
   "version": "3.8.10"
  }
 },
 "nbformat": 4,
 "nbformat_minor": 4
}
